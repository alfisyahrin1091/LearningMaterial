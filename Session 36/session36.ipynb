{
  "nbformat": 4,
  "nbformat_minor": 0,
  "metadata": {
    "colab": {
      "name": "session36.ipynb",
      "provenance": [],
      "collapsed_sections": [],
      "toc_visible": true
    },
    "kernelspec": {
      "name": "python3",
      "display_name": "Python 3"
    },
    "language_info": {
      "name": "python"
    }
  },
  "cells": [
    {
      "cell_type": "markdown",
      "metadata": {
        "id": "HYDnLorfaLu9"
      },
      "source": [
        "#Session 36. Evaluation metrics and model selection"
      ]
    },
    {
      "cell_type": "markdown",
      "metadata": {
        "id": "NeYk43_9aUnb"
      },
      "source": [
        "## Evaluation metrics for binary classification"
      ]
    },
    {
      "cell_type": "code",
      "metadata": {
        "colab": {
          "base_uri": "https://localhost:8080/"
        },
        "id": "hjox4H83aYqD",
        "outputId": "d78e1d1a-0e65-4626-c68c-19a05619c3a2"
      },
      "source": [
        "from google.colab import drive\n",
        "drive.mount('/content/gdrive')"
      ],
      "execution_count": 36,
      "outputs": [
        {
          "output_type": "stream",
          "text": [
            "Drive already mounted at /content/gdrive; to attempt to forcibly remount, call drive.mount(\"/content/gdrive\", force_remount=True).\n"
          ],
          "name": "stdout"
        }
      ]
    },
    {
      "cell_type": "code",
      "metadata": {
        "colab": {
          "base_uri": "https://localhost:8080/",
          "height": 256
        },
        "id": "VcglHHrjanTM",
        "outputId": "61d71617-1cf6-475a-8ef3-7b41deb72b92"
      },
      "source": [
        "import pandas as pd\n",
        "df = pd.read_csv('/content/gdrive/MyDrive/Data Science Digital Skola/healthcare-dataset-stroke-data.csv', delimiter = \",\")\n",
        "df.head()\n",
        "#df.columns"
      ],
      "execution_count": 37,
      "outputs": [
        {
          "output_type": "execute_result",
          "data": {
            "text/html": [
              "<div>\n",
              "<style scoped>\n",
              "    .dataframe tbody tr th:only-of-type {\n",
              "        vertical-align: middle;\n",
              "    }\n",
              "\n",
              "    .dataframe tbody tr th {\n",
              "        vertical-align: top;\n",
              "    }\n",
              "\n",
              "    .dataframe thead th {\n",
              "        text-align: right;\n",
              "    }\n",
              "</style>\n",
              "<table border=\"1\" class=\"dataframe\">\n",
              "  <thead>\n",
              "    <tr style=\"text-align: right;\">\n",
              "      <th></th>\n",
              "      <th>id</th>\n",
              "      <th>gender</th>\n",
              "      <th>age</th>\n",
              "      <th>hypertension</th>\n",
              "      <th>heart_disease</th>\n",
              "      <th>ever_married</th>\n",
              "      <th>work_type</th>\n",
              "      <th>Residence_type</th>\n",
              "      <th>avg_glucose_level</th>\n",
              "      <th>bmi</th>\n",
              "      <th>smoking_status</th>\n",
              "      <th>stroke</th>\n",
              "    </tr>\n",
              "  </thead>\n",
              "  <tbody>\n",
              "    <tr>\n",
              "      <th>0</th>\n",
              "      <td>9046</td>\n",
              "      <td>Male</td>\n",
              "      <td>67.0</td>\n",
              "      <td>0</td>\n",
              "      <td>1</td>\n",
              "      <td>Yes</td>\n",
              "      <td>Private</td>\n",
              "      <td>Urban</td>\n",
              "      <td>228.69</td>\n",
              "      <td>36.6</td>\n",
              "      <td>formerly smoked</td>\n",
              "      <td>1</td>\n",
              "    </tr>\n",
              "    <tr>\n",
              "      <th>1</th>\n",
              "      <td>51676</td>\n",
              "      <td>Female</td>\n",
              "      <td>61.0</td>\n",
              "      <td>0</td>\n",
              "      <td>0</td>\n",
              "      <td>Yes</td>\n",
              "      <td>Self-employed</td>\n",
              "      <td>Rural</td>\n",
              "      <td>202.21</td>\n",
              "      <td>NaN</td>\n",
              "      <td>never smoked</td>\n",
              "      <td>1</td>\n",
              "    </tr>\n",
              "    <tr>\n",
              "      <th>2</th>\n",
              "      <td>31112</td>\n",
              "      <td>Male</td>\n",
              "      <td>80.0</td>\n",
              "      <td>0</td>\n",
              "      <td>1</td>\n",
              "      <td>Yes</td>\n",
              "      <td>Private</td>\n",
              "      <td>Rural</td>\n",
              "      <td>105.92</td>\n",
              "      <td>32.5</td>\n",
              "      <td>never smoked</td>\n",
              "      <td>1</td>\n",
              "    </tr>\n",
              "    <tr>\n",
              "      <th>3</th>\n",
              "      <td>60182</td>\n",
              "      <td>Female</td>\n",
              "      <td>49.0</td>\n",
              "      <td>0</td>\n",
              "      <td>0</td>\n",
              "      <td>Yes</td>\n",
              "      <td>Private</td>\n",
              "      <td>Urban</td>\n",
              "      <td>171.23</td>\n",
              "      <td>34.4</td>\n",
              "      <td>smokes</td>\n",
              "      <td>1</td>\n",
              "    </tr>\n",
              "    <tr>\n",
              "      <th>4</th>\n",
              "      <td>1665</td>\n",
              "      <td>Female</td>\n",
              "      <td>79.0</td>\n",
              "      <td>1</td>\n",
              "      <td>0</td>\n",
              "      <td>Yes</td>\n",
              "      <td>Self-employed</td>\n",
              "      <td>Rural</td>\n",
              "      <td>174.12</td>\n",
              "      <td>24.0</td>\n",
              "      <td>never smoked</td>\n",
              "      <td>1</td>\n",
              "    </tr>\n",
              "  </tbody>\n",
              "</table>\n",
              "</div>"
            ],
            "text/plain": [
              "      id  gender   age  ...   bmi   smoking_status stroke\n",
              "0   9046    Male  67.0  ...  36.6  formerly smoked      1\n",
              "1  51676  Female  61.0  ...   NaN     never smoked      1\n",
              "2  31112    Male  80.0  ...  32.5     never smoked      1\n",
              "3  60182  Female  49.0  ...  34.4           smokes      1\n",
              "4   1665  Female  79.0  ...  24.0     never smoked      1\n",
              "\n",
              "[5 rows x 12 columns]"
            ]
          },
          "metadata": {},
          "execution_count": 37
        }
      ]
    },
    {
      "cell_type": "code",
      "metadata": {
        "colab": {
          "base_uri": "https://localhost:8080/",
          "height": 248
        },
        "id": "IM38mW5rap0R",
        "outputId": "cf09a6d1-7f89-4da2-fbdd-b8302d9bcb57"
      },
      "source": [
        "import matplotlib.pyplot as plt\n",
        "plt.pie(df['stroke'].value_counts(), autopct='%1.2f%%')\n",
        "plt.legend(['Normal', 'Stroke'])\n",
        "plt.show()"
      ],
      "execution_count": 38,
      "outputs": [
        {
          "output_type": "display_data",
          "data": {
            "image/png": "[encoded data removed]",
            "text/plain": [
              "<Figure size 432x288 with 1 Axes>"
            ]
          },
          "metadata": {}
        }
      ]
    },
    {
      "cell_type": "code",
      "metadata": {
        "colab": {
          "base_uri": "https://localhost:8080/"
        },
        "id": "rARFDtRZbao6",
        "outputId": "2ea4617b-36f6-4e79-db5d-9c23a9602936"
      },
      "source": [
        "df.isnull().sum()"
      ],
      "execution_count": 5,
      "outputs": [
        {
          "output_type": "execute_result",
          "data": {
            "text/plain": [
              "id                     0\n",
              "gender                 0\n",
              "age                    0\n",
              "hypertension           0\n",
              "heart_disease          0\n",
              "ever_married           0\n",
              "work_type              0\n",
              "Residence_type         0\n",
              "avg_glucose_level      0\n",
              "bmi                  201\n",
              "smoking_status         0\n",
              "stroke                 0\n",
              "dtype: int64"
            ]
          },
          "metadata": {},
          "execution_count": 5
        }
      ]
    },
    {
      "cell_type": "markdown",
      "metadata": {
        "id": "SMrFIVbdT0VQ"
      },
      "source": [
        "## Evaluation metrics with holdout"
      ]
    },
    {
      "cell_type": "code",
      "metadata": {
        "colab": {
          "base_uri": "https://localhost:8080/",
          "height": 413
        },
        "id": "IHdhUdyVbo3D",
        "outputId": "7307ba75-cb5d-445f-a564-61339e5e53fd"
      },
      "source": [
        "from sklearn.model_selection import train_test_split\n",
        "from sklearn.preprocessing import LabelEncoder\n",
        "from sklearn.tree import DecisionTreeClassifier\n",
        "from sklearn.metrics import accuracy_score\n",
        "from sklearn.metrics import precision_score\n",
        "from sklearn.metrics import recall_score\n",
        "from sklearn.metrics import confusion_matrix\n",
        "from sklearn.metrics import plot_confusion_matrix\n",
        "\n",
        "from imblearn.metrics import sensitivity_specificity_support\n",
        "from sklearn.preprocessing import StandardScaler\n",
        "\n",
        "df_X = df.drop(['id','stroke'],axis=1)\n",
        "df_y = df['stroke']\n",
        "#imputation\n",
        "df_X['bmi'].fillna(df_X['bmi'].mean(), inplace=True)\n",
        "#categorical encoding\n",
        "cat_features = ['gender','ever_married','work_type','Residence_type', 'smoking_status']\n",
        "le = LabelEncoder()\n",
        "for i in cat_features:\n",
        "  df_X[i] = le.fit_transform(df_X[i])\n",
        "\n",
        "X = df_X.astype(float).values\n",
        "y = df_y.astype(float).values\n",
        "\n",
        "X_train, X_test, y_train, y_test = train_test_split(X, y, test_size=0.3, random_state=42)\n",
        "#scaling\n",
        "scaler = StandardScaler().fit(X_train)\n",
        "X_train = scaler.transform(X_train)\n",
        "X_test = scaler.transform(X_test)\n",
        "\n",
        "model=DecisionTreeClassifier(random_state=42)\n",
        "model.fit(X_train, y_train)\n",
        "y_pred = model.predict(X_test)\n",
        "\n",
        "print('Accuracy : ',accuracy_score(y_test, y_pred))    \n",
        "print('Precision : ',precision_score(y_test, y_pred, average='macro'))  \n",
        "print('Recall/ sensitivity : ',recall_score(y_test, y_pred, average='macro')) \n",
        "\n",
        "sens, spec, sup = sensitivity_specificity_support(y_test,y_pred, average='macro')\n",
        "print('Specificity : ',spec)\n",
        "\n",
        "print('Confusion matrix :')\n",
        "print(confusion_matrix(y_test, y_pred))\n",
        "print('Plot Confusion Matrix :')\n",
        "plot_confusion_matrix(model, X_test, y_test, cmap=plt.cm.Blues)  \n",
        "plt.show()\n"
      ],
      "execution_count": 46,
      "outputs": [
        {
          "output_type": "stream",
          "text": [
            "Accuracy :  0.8988910632746249\n",
            "Precision :  0.5634274674230279\n",
            "Recall/ sensitivity :  0.5720377229294407\n",
            "Specificity :  0.5720377229294407\n",
            "Confusion matrix :\n",
            "[[1360   84]\n",
            " [  71   18]]\n",
            "Plot Confusion Matrix :\n"
          ],
          "name": "stdout"
        },
        {
          "output_type": "display_data",
          "data": {
            "image/png": "[encoded data removed]",
            "text/plain": [
              "<Figure size 432x288 with 2 Axes>"
            ]
          },
          "metadata": {
            "needs_background": "light"
          }
        }
      ]
    },
    {
      "cell_type": "code",
      "metadata": {
        "colab": {
          "base_uri": "https://localhost:8080/"
        },
        "id": "SR1Ojm1zjIAL",
        "outputId": "66a1e4e0-753c-4165-dbc6-13d8752a13ad"
      },
      "source": [
        "sensitivity_specificity_support(y_test,y_pred, average='macro')"
      ],
      "execution_count": 40,
      "outputs": [
        {
          "output_type": "execute_result",
          "data": {
            "text/plain": [
              "(0.5720377229294407, 0.5720377229294407, None)"
            ]
          },
          "metadata": {},
          "execution_count": 40
        }
      ]
    },
    {
      "cell_type": "markdown",
      "metadata": {
        "id": "7jyzGWHumgjz"
      },
      "source": [
        "## cross validation v1"
      ]
    },
    {
      "cell_type": "code",
      "metadata": {
        "colab": {
          "base_uri": "https://localhost:8080/"
        },
        "id": "GWslTRHw3ly0",
        "outputId": "c6485c70-daf5-4825-c2b9-a4da0b5b8d56"
      },
      "source": [
        "from sklearn.preprocessing import LabelEncoder\n",
        "from sklearn.tree import DecisionTreeClassifier\n",
        "from sklearn.model_selection import cross_validate\n",
        "from sklearn.model_selection import StratifiedKFold\n",
        "from sklearn.model_selection import KFold\n",
        "\n",
        "df_X = df.drop(['id','stroke'],axis=1)\n",
        "df_y = df['stroke']\n",
        "#imputation\n",
        "df_X['bmi'].fillna(df_X['bmi'].mean(), inplace=True)\n",
        "#categorical encoding\n",
        "cat_features = ['gender','ever_married','work_type','Residence_type', 'smoking_status']\n",
        "le = LabelEncoder()\n",
        "for i in cat_features:\n",
        "  df_X[i] = le.fit_transform(df_X[i])\n",
        "\n",
        "X = df_X.astype(float).values\n",
        "y = df_y.astype(float).values\n",
        "\n",
        "scaler = StandardScaler().fit(X)\n",
        "X = scaler.transform(X)\n",
        "\n",
        "dt=DecisionTreeClassifier(random_state=42)\n",
        "\n",
        "\n",
        "kfold = KFold(10, shuffle=True)\n",
        "\n",
        "scores = cross_validate(dt, X, y, cv=kfold, scoring=['accuracy','precision_macro','recall_macro'])\n",
        "\n",
        "print('Accuracy : ',scores['test_accuracy'].mean())    \n",
        "print('Precision : ',scores['test_precision_macro'].mean())  \n",
        "print('Recall/ sensitivity : ',scores['test_recall_macro'].mean()) \n"
      ],
      "execution_count": 47,
      "outputs": [
        {
          "output_type": "stream",
          "text": [
            "Accuracy :  0.9062622309197652\n",
            "Precision :  0.5438114108517442\n",
            "Recall/ sensitivity :  0.5599325568492051\n"
          ],
          "name": "stdout"
        }
      ]
    },
    {
      "cell_type": "code",
      "metadata": {
        "colab": {
          "base_uri": "https://localhost:8080/"
        },
        "id": "LnmavShaqyVg",
        "outputId": "26d3708b-02ca-4bf0-a373-d0869e4771a0"
      },
      "source": [
        "scores"
      ],
      "execution_count": 48,
      "outputs": [
        {
          "output_type": "execute_result",
          "data": {
            "text/plain": [
              "{'fit_time': array([0.01365948, 0.01326013, 0.01413417, 0.01310992, 0.01360059,\n",
              "        0.01479864, 0.01311255, 0.01346755, 0.01439667, 0.01386762]),\n",
              " 'score_time': array([0.00232434, 0.00245762, 0.00241184, 0.00230789, 0.002352  ,\n",
              "        0.00239801, 0.00226951, 0.00231528, 0.00226831, 0.00228977]),\n",
              " 'test_accuracy': array([0.92563601, 0.88649706, 0.92367906, 0.90019569, 0.90019569,\n",
              "        0.88454012, 0.91780822, 0.91585127, 0.89236791, 0.91585127]),\n",
              " 'test_precision_macro': array([0.52704964, 0.53340263, 0.5487395 , 0.53951613, 0.5581986 ,\n",
              "        0.5530303 , 0.58373873, 0.54165182, 0.51869748, 0.53408928]),\n",
              " 'test_recall_macro': array([0.5296334 , 0.52818713, 0.63560454, 0.54347826, 0.55307281,\n",
              "        0.60271218, 0.59633745, 0.53707375, 0.52470262, 0.54852342])}"
            ]
          },
          "metadata": {},
          "execution_count": 48
        }
      ]
    },
    {
      "cell_type": "markdown",
      "metadata": {
        "id": "VUebWhtc3nke"
      },
      "source": [
        "## stratified cross validation v1\n"
      ]
    },
    {
      "cell_type": "code",
      "metadata": {
        "colab": {
          "base_uri": "https://localhost:8080/"
        },
        "id": "F10hD3pAmn9I",
        "outputId": "afe0bfc2-97ff-485d-dec8-daa7e88a8fb3"
      },
      "source": [
        "from sklearn.preprocessing import LabelEncoder\n",
        "from sklearn.tree import DecisionTreeClassifier\n",
        "from sklearn.model_selection import cross_validate\n",
        "from sklearn.model_selection import StratifiedKFold\n",
        "from sklearn.model_selection import KFold\n",
        "\n",
        "df_X = df.drop(['id','stroke'],axis=1)\n",
        "df_y = df['stroke']\n",
        "#imputation\n",
        "df_X['bmi'].fillna(df_X['bmi'].mean(), inplace=True)\n",
        "#categorical encoding\n",
        "cat_features = ['gender','ever_married','work_type','Residence_type', 'smoking_status']\n",
        "le = LabelEncoder()\n",
        "for i in cat_features:\n",
        "  df_X[i] = le.fit_transform(df_X[i])\n",
        "\n",
        "X = df_X.astype(float).values\n",
        "y = df_y.astype(float).values\n",
        "#scaling\n",
        "scaler = StandardScaler().fit(X)\n",
        "X = scaler.transform(X)\n",
        "\n",
        "dt=DecisionTreeClassifier(random_state=42)\n",
        "scores = cross_validate(dt, X, y, cv=10, scoring=['accuracy','precision_macro','recall_macro'])\n",
        "\n",
        "print('Accuracy : ',scores['test_accuracy'].mean())    \n",
        "print('Precision : ',scores['test_precision_macro'].mean())  \n",
        "print('Recall/ sensitivity : ',scores['test_recall_macro'].mean()) \n"
      ],
      "execution_count": 56,
      "outputs": [
        {
          "output_type": "stream",
          "text": [
            "Accuracy :  0.9117416829745597\n",
            "Precision :  0.5450436296054475\n",
            "Recall/ sensitivity :  0.5554395940544696\n"
          ],
          "name": "stdout"
        }
      ]
    },
    {
      "cell_type": "code",
      "metadata": {
        "colab": {
          "base_uri": "https://localhost:8080/"
        },
        "id": "vhP5tMuIu3qw",
        "outputId": "2cbfe658-f321-4ef8-d920-4acf610535d6"
      },
      "source": [
        "scores"
      ],
      "execution_count": 57,
      "outputs": [
        {
          "output_type": "execute_result",
          "data": {
            "text/plain": [
              "{'fit_time': array([0.01378989, 0.01470256, 0.01438928, 0.01419568, 0.01396465,\n",
              "        0.01400518, 0.01310658, 0.01345658, 0.01397777, 0.0132134 ]),\n",
              " 'score_time': array([0.00260663, 0.00262904, 0.00259686, 0.00249386, 0.00311923,\n",
              "        0.00248647, 0.00250459, 0.00311613, 0.00256944, 0.00250149]),\n",
              " 'test_accuracy': array([0.91976517, 0.92172211, 0.90802348, 0.90606654, 0.89236791,\n",
              "        0.89823875, 0.91389432, 0.91780822, 0.90998043, 0.9295499 ]),\n",
              " 'test_precision_macro': array([0.57553529, 0.50512027, 0.58729276, 0.54264113, 0.53043285,\n",
              "        0.55679596, 0.56546001, 0.47469636, 0.53282828, 0.5796334 ]),\n",
              " 'test_recall_macro': array([0.57839506, 0.50353909, 0.6291358 , 0.55222222, 0.54502058,\n",
              "        0.58604938, 0.57530864, 0.48251029, 0.53530864, 0.56690623])}"
            ]
          },
          "metadata": {},
          "execution_count": 57
        }
      ]
    },
    {
      "cell_type": "markdown",
      "metadata": {
        "id": "QBDv4HkH4OJB"
      },
      "source": [
        "## CV Version 2"
      ]
    },
    {
      "cell_type": "code",
      "metadata": {
        "id": "xyXPKSO85DdH"
      },
      "source": [
        "from sklearn.preprocessing import LabelEncoder\n",
        "from sklearn.tree import DecisionTreeClassifier\n",
        "from sklearn.metrics import accuracy_score\n",
        "from sklearn.metrics import precision_score\n",
        "from sklearn.metrics import recall_score\n",
        "from imblearn.metrics import sensitivity_specificity_support\n",
        "\n",
        "def dt(X_train, y_train, X_test, y_test):\n",
        "  model=DecisionTreeClassifier(random_state=42)\n",
        "  model.fit(X_train, y_train)\n",
        "  y_pred = model.predict(X_test)\n",
        "  acc=accuracy_score(y_test, y_pred)\n",
        "  prec= precision_score(y_test, y_pred, average='macro')\n",
        "  rec= recall_score(y_test, y_pred, average='macro')\n",
        "  sens, spec, sup = sensitivity_specificity_support(y_test,y_pred, average='macro')\n",
        "\n",
        "  return acc, prec, rec, spec\n",
        "\n"
      ],
      "execution_count": 50,
      "outputs": []
    },
    {
      "cell_type": "code",
      "metadata": {
        "colab": {
          "base_uri": "https://localhost:8080/"
        },
        "id": "G4PW-5rC3jO4",
        "outputId": "78c2c7d3-5d79-4de5-b40a-c1083c901d84"
      },
      "source": [
        "from sklearn.preprocessing import LabelEncoder\n",
        "from sklearn.tree import DecisionTreeClassifier\n",
        "from sklearn.model_selection import cross_validate\n",
        "from sklearn.model_selection import StratifiedKFold\n",
        "from sklearn.model_selection import KFold\n",
        "import numpy as np\n",
        "\n",
        "df_X = df.drop(['id','stroke'],axis=1)\n",
        "df_y = df['stroke']\n",
        "#imputation\n",
        "df_X['bmi'].fillna(df_X['bmi'].mean(), inplace=True)\n",
        "#categorical encoding\n",
        "cat_features = ['gender','ever_married','work_type','Residence_type', 'smoking_status']\n",
        "le = LabelEncoder()\n",
        "for i in cat_features:\n",
        "  df_X[i] = le.fit_transform(df_X[i])\n",
        "\n",
        "X = df_X.astype(float).values\n",
        "y = df_y.astype(float).values\n",
        "\n",
        "accs, precs, recs, specs = list(), list(), list(), list()\n",
        "i=1\n",
        "kfold = KFold(10, shuffle=True)\n",
        "for train_ix, test_ix in kfold.split(X,y):\n",
        "    X_train, y_train = X[train_ix], y[train_ix]\n",
        "    X_test, y_test = X[test_ix], y[test_ix]\n",
        "    #print(pd.DataFrame(y_test).value_counts())\n",
        "    #scaling\n",
        "    scaler = StandardScaler().fit(X_train)\n",
        "    X_train = scaler.transform(X_train)\n",
        "    X_test = scaler.transform(X_test)\n",
        "\n",
        "    acc, prec, rec, spec = dt(X_train, y_train, X_test, y_test)\n",
        "    print('iteration ', i)\n",
        "    print('accuracy ', acc, 'precision ', prec, 'recall ', rec, 'specificity ', spec)\n",
        "    accs.append(acc)\n",
        "    precs.append(prec)\n",
        "    recs.append(rec)\n",
        "    specs.append(spec)\n",
        "    print('-----------')\n",
        "    \n",
        "    i = i + 1\n",
        "\n",
        "print('------')\n",
        "print('Final Accuracy: %.3f' % (np.mean(accs)))\n",
        "print('Final Precision: %.3f' % (np.mean(precs)))\n",
        "print('Final Specificity: %.3f' % (np.mean(specs)))\n",
        "print('Final Recall: %.3f' % (np.mean(recs)))\n"
      ],
      "execution_count": 51,
      "outputs": [
        {
          "output_type": "stream",
          "text": [
            "iteration  1\n",
            "accuracy  0.8943248532289628 precision  0.5529579657498702 recall  0.5839917695473251 specificity  0.5839917695473251\n",
            "-----------\n",
            "iteration  2\n",
            "accuracy  0.9275929549902152 precision  0.5658795345653662 recall  0.5748299319727891 specificity  0.5748299319727891\n",
            "-----------\n",
            "iteration  3\n",
            "accuracy  0.9060665362035225 precision  0.590164609053498 recall  0.5657563025210084 specificity  0.5657563025210084\n",
            "-----------\n",
            "iteration  4\n",
            "accuracy  0.9158512720156555 precision  0.582485380116959 recall  0.6370748299319727 specificity  0.6370748299319727\n",
            "-----------\n",
            "iteration  5\n",
            "accuracy  0.9334637964774951 precision  0.5962539505484291 recall  0.5962539505484291 specificity  0.5962539505484291\n",
            "-----------\n",
            "iteration  6\n",
            "accuracy  0.9099804305283757 precision  0.49736625514403293 recall  0.49714896650035634 specificity  0.49714896650035634\n",
            "-----------\n",
            "iteration  7\n",
            "accuracy  0.9021526418786693 precision  0.5515168331483536 recall  0.5662569389373513 specificity  0.5662569389373513\n",
            "-----------\n",
            "iteration  8\n",
            "accuracy  0.9256360078277887 precision  0.5450462012320328 recall  0.5536150712830957 specificity  0.5536150712830957\n",
            "-----------\n",
            "iteration  9\n",
            "accuracy  0.8825831702544031 precision  0.5339177185600747 recall  0.5620722108145106 specificity  0.5620722108145106\n",
            "-----------\n",
            "iteration  10\n",
            "accuracy  0.9080234833659491 precision  0.5722222222222222 recall  0.5572481732776617 specificity  0.5572481732776617\n",
            "-----------\n",
            "------\n",
            "Final Accuracy: 0.911\n",
            "Final Precision: 0.559\n",
            "Final Specificity: 0.569\n",
            "Final Recall: 0.569\n"
          ],
          "name": "stdout"
        }
      ]
    },
    {
      "cell_type": "markdown",
      "metadata": {
        "id": "T_cqFMBo8w-i"
      },
      "source": [
        "## stratified CV ver 2"
      ]
    },
    {
      "cell_type": "code",
      "metadata": {
        "id": "ozsmeKyIBcN5"
      },
      "source": [
        "from sklearn.preprocessing import LabelEncoder\n",
        "from sklearn.tree import DecisionTreeClassifier\n",
        "from sklearn.metrics import accuracy_score\n",
        "from sklearn.metrics import precision_score\n",
        "from sklearn.metrics import recall_score\n",
        "from imblearn.metrics import sensitivity_specificity_support\n",
        "\n",
        "def dt(X_train, y_train, X_test, y_test):\n",
        "  model=DecisionTreeClassifier(random_state=42)\n",
        "  model.fit(X_train, y_train)\n",
        "  y_pred = model.predict(X_test)\n",
        "  acc=accuracy_score(y_test, y_pred)\n",
        "  prec= precision_score(y_test, y_pred, average='macro')\n",
        "  rec= recall_score(y_test, y_pred, average='macro')\n",
        "  sens, spec, sup = sensitivity_specificity_support(y_test,y_pred, average='macro')\n",
        "\n",
        "  return acc, prec, rec, spec"
      ],
      "execution_count": 66,
      "outputs": []
    },
    {
      "cell_type": "code",
      "metadata": {
        "colab": {
          "base_uri": "https://localhost:8080/"
        },
        "id": "EIDHlzUG9n-T",
        "outputId": "2eae4603-6c43-4ca0-e4da-672ab9e2e5aa"
      },
      "source": [
        "from sklearn.preprocessing import LabelEncoder\n",
        "from sklearn.tree import DecisionTreeClassifier\n",
        "from sklearn.model_selection import cross_validate\n",
        "from sklearn.model_selection import StratifiedKFold\n",
        "from sklearn.model_selection import KFold\n",
        "import numpy as np\n",
        "\n",
        "df_X = df.drop(['id','stroke'],axis=1)\n",
        "df_y = df['stroke']\n",
        "#imputation\n",
        "df_X['bmi'].fillna(df_X['bmi'].mean(), inplace=True)\n",
        "#categorical encoding\n",
        "cat_features = ['gender','ever_married','work_type','Residence_type', 'smoking_status']\n",
        "le = LabelEncoder()\n",
        "for i in cat_features:\n",
        "  df_X[i] = le.fit_transform(df_X[i])\n",
        "  \n",
        "X = df_X.astype(float).values\n",
        "y = df_y.astype(float).values\n",
        "\n",
        "accs, precs, recs, specs = list(), list(), list(), list()\n",
        "i=1\n",
        "kfold = StratifiedKFold(10, shuffle=True)\n",
        "for train_ix, test_ix in kfold.split(X,y):\n",
        "    X_train, y_train = X[train_ix], y[train_ix]\n",
        "    X_test, y_test = X[test_ix], y[test_ix]\n",
        "    #print(pd.DataFrame(y_test).value_counts())\n",
        "    #scaling\n",
        "    scaler = StandardScaler().fit(X_train)\n",
        "    X_train = scaler.transform(X_train)\n",
        "    X_test = scaler.transform(X_test)\n",
        "\n",
        "    acc, prec, rec, spec = dt(X_train, y_train, X_test, y_test)\n",
        "    print('iteration ', i)\n",
        "    print('accuracy ', acc, 'precision ', prec, 'recall ', rec, 'specificity ', spec)\n",
        "    accs.append(acc)\n",
        "    precs.append(prec)\n",
        "    recs.append(rec)\n",
        "    specs.append(spec)\n",
        "    print('-----------')\n",
        "    i = i + 1\n",
        "\n",
        "print('------')\n",
        "print('Final Accuracy: %.3f' % (np.mean(accs)))\n",
        "print('Final Precision: %.3f' % (np.mean(precs)))\n",
        "print('Final Specificity: %.3f' % (np.mean(specs)))\n",
        "print('Final Recall: %.3f' % (np.mean(recs)))\n"
      ],
      "execution_count": 67,
      "outputs": [
        {
          "output_type": "stream",
          "text": [
            "iteration  1\n",
            "accuracy  0.9158512720156555 precision  0.5685817805383022 recall  0.5763374485596708 specificity  0.5763374485596708\n",
            "-----------\n",
            "iteration  2\n",
            "accuracy  0.9099804305283757 precision  0.5328282828282829 recall  0.5353086419753086 specificity  0.5353086419753086\n",
            "-----------\n",
            "iteration  3\n",
            "accuracy  0.913894324853229 precision  0.5769825268817205 recall  0.5942798353909464 specificity  0.5942798353909464\n",
            "-----------\n",
            "iteration  4\n",
            "accuracy  0.9060665362035225 precision  0.47438524590163933 recall  0.4763374485596708 specificity  0.4763374485596708\n",
            "-----------\n",
            "iteration  5\n",
            "accuracy  0.9178082191780822 precision  0.5426764076977905 recall  0.5394238683127572 specificity  0.5394238683127572\n",
            "-----------\n",
            "iteration  6\n",
            "accuracy  0.9158512720156555 precision  0.5399127310061602 recall  0.538395061728395 specificity  0.538395061728395\n",
            "-----------\n",
            "iteration  7\n",
            "accuracy  0.913894324853229 precision  0.5769825268817205 recall  0.5942798353909464 specificity  0.5942798353909464\n",
            "-----------\n",
            "iteration  8\n",
            "accuracy  0.9021526418786693 precision  0.5106238374588639 recall  0.5122222222222222 specificity  0.5122222222222222\n",
            "-----------\n",
            "iteration  9\n",
            "accuracy  0.9099804305283757 precision  0.5471812848762341 recall  0.5542798353909465 specificity  0.5542798353909465\n",
            "-----------\n",
            "iteration  10\n",
            "accuracy  0.9041095890410958 precision  0.5265120967741935 recall  0.533752566735113 specificity  0.533752566735113\n",
            "-----------\n",
            "------\n",
            "Final Accuracy: 0.911\n",
            "Final Precision: 0.540\n",
            "Final Specificity: 0.545\n",
            "Final Recall: 0.545\n"
          ],
          "name": "stdout"
        }
      ]
    },
    {
      "cell_type": "markdown",
      "metadata": {
        "id": "zuZ2K4kg0Rfs"
      },
      "source": [
        "## grid search"
      ]
    },
    {
      "cell_type": "code",
      "metadata": {
        "colab": {
          "base_uri": "https://localhost:8080/",
          "height": 530
        },
        "id": "CfeeK1A80TdA",
        "outputId": "a2e57c12-3a31-4fcc-e775-559f242b6910"
      },
      "source": [
        "from sklearn.model_selection import train_test_split\n",
        "from sklearn.model_selection import GridSearchCV\n",
        "from sklearn.preprocessing import LabelEncoder\n",
        "from sklearn.tree import DecisionTreeClassifier\n",
        "from sklearn.metrics import accuracy_score\n",
        "from sklearn.metrics import precision_score\n",
        "from sklearn.metrics import recall_score\n",
        "from imblearn.metrics import sensitivity_specificity_support\n",
        "from sklearn.metrics import plot_confusion_matrix\n",
        "from sklearn.metrics import confusion_matrix\n",
        "import matplotlib.pyplot as plt\n",
        "\n",
        "df_X = df.drop(['id','stroke'],axis=1)\n",
        "df_y = df['stroke']\n",
        "#imputation\n",
        "df_X['bmi'].fillna(df_X['bmi'].mean(), inplace=True)\n",
        "#categorical encoding\n",
        "cat_features = ['gender','ever_married','work_type','Residence_type', 'smoking_status']\n",
        "le = LabelEncoder()\n",
        "for i in cat_features:\n",
        "  df_X[i] = le.fit_transform(df_X[i])\n",
        "\n",
        "X = df_X.astype(float).values\n",
        "y = df_y.astype(float).values\n",
        "X_train, X_test, y_train, y_test = train_test_split(X, y, test_size=0.3, random_state=42, shuffle=True)\n",
        "#scaling\n",
        "scaler = StandardScaler().fit(X_train)\n",
        "X_train = scaler.transform(X_train)\n",
        "X_test = scaler.transform(X_test)\n",
        "\n",
        "dt=DecisionTreeClassifier(random_state=42)\n",
        "\n",
        "grid_values = {'max_depth': [3, 15, 20, 40, 60],'criterion':['gini', 'entropy' ]}\n",
        "grid_dt = GridSearchCV(dt, param_grid = grid_values,scoring = 'recall', cv=10)\n",
        "grid_dt.fit(X_train, y_train)\n",
        "\n",
        "#Predict values based on new parameters\n",
        "y_pred = grid_dt.predict(X_test)\n",
        "\n",
        "#best hyperparameters\n",
        "print(grid_dt.best_params_)\n",
        "print(grid_dt.best_estimator_)\n",
        "\n",
        "print('Accuracy : ',accuracy_score(y_test, y_pred))    \n",
        "print('Precision : ',precision_score(y_test, y_pred, average='macro'))  \n",
        "print('Recall/ sensitivity : ',recall_score(y_test, y_pred, average='macro')) \n",
        "\n",
        "sens, spec, sup = sensitivity_specificity_support(y_test,y_pred, average='macro')\n",
        "print('Specificity : ',spec)\n",
        "print('Confusion matrix :')\n",
        "print(confusion_matrix(y_test, y_pred))\n",
        "print('Plot Confusion Matrix :')\n",
        "plot_confusion_matrix(grid_dt, X_test, y_test, cmap=plt.cm.Blues)  \n",
        "plt.show()\n"
      ],
      "execution_count": 68,
      "outputs": [
        {
          "output_type": "stream",
          "text": [
            "{'criterion': 'gini', 'max_depth': 20}\n",
            "DecisionTreeClassifier(ccp_alpha=0.0, class_weight=None, criterion='gini',\n",
            "                       max_depth=20, max_features=None, max_leaf_nodes=None,\n",
            "                       min_impurity_decrease=0.0, min_impurity_split=None,\n",
            "                       min_samples_leaf=1, min_samples_split=2,\n",
            "                       min_weight_fraction_leaf=0.0, presort='deprecated',\n",
            "                       random_state=42, splitter='best')\n",
            "Accuracy :  0.8988910632746249\n",
            "Precision :  0.5634274674230279\n",
            "Recall/ sensitivity :  0.5720377229294407\n",
            "Specificity :  0.5720377229294407\n",
            "Confusion matrix :\n",
            "[[1360   84]\n",
            " [  71   18]]\n",
            "Plot Confusion Matrix :\n"
          ],
          "name": "stdout"
        },
        {
          "output_type": "display_data",
          "data": {
            "image/png": "[encoded data removed]",
            "text/plain": [
              "<Figure size 432x288 with 2 Axes>"
            ]
          },
          "metadata": {
            "needs_background": "light"
          }
        }
      ]
    },
    {
      "cell_type": "markdown",
      "metadata": {
        "id": "nW9xhODt5GOq"
      },
      "source": [
        "## randomized search"
      ]
    },
    {
      "cell_type": "code",
      "metadata": {
        "colab": {
          "base_uri": "https://localhost:8080/",
          "height": 530
        },
        "id": "rzKdiUTb5quX",
        "outputId": "1259f9ce-fbc7-4994-d4cc-1300cd081418"
      },
      "source": [
        "from sklearn.model_selection import train_test_split\n",
        "from sklearn.model_selection import RandomizedSearchCV\n",
        "from sklearn.preprocessing import LabelEncoder\n",
        "from sklearn.tree import DecisionTreeClassifier\n",
        "from sklearn.metrics import accuracy_score\n",
        "from sklearn.metrics import precision_score\n",
        "from sklearn.metrics import recall_score\n",
        "from imblearn.metrics import sensitivity_specificity_support\n",
        "from sklearn.metrics import plot_confusion_matrix\n",
        "from sklearn.metrics import confusion_matrix\n",
        "import matplotlib.pyplot as plt\n",
        "import random\n",
        "\n",
        "df_X = df.drop(['id','stroke'],axis=1)\n",
        "df_y = df['stroke']\n",
        "#imputation\n",
        "df_X['bmi'].fillna(df_X['bmi'].mean(), inplace=True)\n",
        "#categorical encoding\n",
        "cat_features = ['gender','ever_married','work_type','Residence_type', 'smoking_status']\n",
        "le = LabelEncoder()\n",
        "for i in cat_features:\n",
        "  df_X[i] = le.fit_transform(df_X[i])\n",
        "\n",
        "X = df_X.astype(float).values\n",
        "y = df_y.astype(float).values\n",
        "X_train, X_test, y_train, y_test = train_test_split(X, y, test_size=0.3, random_state=42, shuffle=True)\n",
        "#scaling\n",
        "scaler = StandardScaler().fit(X_train)\n",
        "X_train = scaler.transform(X_train)\n",
        "X_test = scaler.transform(X_test)\n",
        "\n",
        "dt=DecisionTreeClassifier(random_state=42)\n",
        "rand_values = {'max_depth': [3, 15, 20, 40, 60],'criterion':['gini', 'entropy' ]}\n",
        "rand_dt = RandomizedSearchCV(dt, param_distributions = rand_values,scoring = 'recall', cv=10, n_iter=3, random_state=42)\n",
        "rand_dt.fit(X_train, y_train)\n",
        "\n",
        "#Predict values based on new parameters\n",
        "y_pred = rand_dt.predict(X_test)\n",
        "\n",
        "#best hyperparameters\n",
        "print(rand_dt.best_params_)\n",
        "print(rand_dt.best_estimator_)\n",
        "\n",
        "print('Accuracy : ',accuracy_score(y_test, y_pred))    \n",
        "print('Precision : ',precision_score(y_test, y_pred, average='macro'))  \n",
        "print('Recall/ sensitivity : ',recall_score(y_test, y_pred, average='macro')) \n",
        "\n",
        "sens, spec, sup = sensitivity_specificity_support(y_test,y_pred, average='macro')\n",
        "print('Specificity : ',spec)\n",
        "print('Confusion matrix :')\n",
        "print(confusion_matrix(y_test, y_pred))\n",
        "print('Plot Confusion Matrix :')\n",
        "plot_confusion_matrix(rand_dt, X_test, y_test, cmap=plt.cm.Blues)  \n",
        "plt.show()"
      ],
      "execution_count": 60,
      "outputs": [
        {
          "output_type": "stream",
          "text": [
            "{'max_depth': 15, 'criterion': 'gini'}\n",
            "DecisionTreeClassifier(ccp_alpha=0.0, class_weight=None, criterion='gini',\n",
            "                       max_depth=15, max_features=None, max_leaf_nodes=None,\n",
            "                       min_impurity_decrease=0.0, min_impurity_split=None,\n",
            "                       min_samples_leaf=1, min_samples_split=2,\n",
            "                       min_weight_fraction_leaf=0.0, presort='deprecated',\n",
            "                       random_state=42, splitter='best')\n",
            "Accuracy :  0.9021526418786693\n",
            "Precision :  0.5781655237965917\n",
            "Recall/ sensitivity :  0.5895841762893336\n",
            "Specificity :  0.5895841762893336\n",
            "Confusion matrix :\n",
            "[[1362   82]\n",
            " [  68   21]]\n",
            "Plot Confusion Matrix :\n"
          ],
          "name": "stdout"
        },
        {
          "output_type": "display_data",
          "data": {
            "image/png": "[encoded data removed]",
            "text/plain": [
              "<Figure size 432x288 with 2 Axes>"
            ]
          },
          "metadata": {
            "needs_background": "light"
          }
        }
      ]
    },
    {
      "cell_type": "markdown",
      "metadata": {
        "id": "I2TbwXV2932K"
      },
      "source": [
        "## model selection"
      ]
    },
    {
      "cell_type": "code",
      "metadata": {
        "colab": {
          "base_uri": "https://localhost:8080/"
        },
        "id": "ncj7ZoAS9_49",
        "outputId": "463bac58-fc6b-486f-bce4-747ddf2b105f"
      },
      "source": [
        "from sklearn.preprocessing import LabelEncoder\n",
        "from sklearn.tree import DecisionTreeClassifier\n",
        "from sklearn.ensemble import RandomForestClassifier\n",
        "from sklearn.neighbors import KNeighborsClassifier\n",
        "from sklearn.linear_model import LogisticRegression\n",
        "from sklearn.svm import SVC\n",
        "from sklearn.ensemble import BaggingClassifier\n",
        "\n",
        "from sklearn.model_selection import cross_validate\n",
        "from sklearn.model_selection import StratifiedKFold\n",
        "from sklearn.model_selection import KFold\n",
        "from sklearn.pipeline import Pipeline, make_pipeline\n",
        "from sklearn.preprocessing import StandardScaler\n",
        "\n",
        "import warnings\n",
        "warnings.filterwarnings('ignore')\n",
        "\n",
        "df_X = df.drop(['id','stroke'],axis=1)\n",
        "df_y = df['stroke']\n",
        "#imputation\n",
        "df_X['bmi'].fillna(df_X['bmi'].mean(), inplace=True)\n",
        "#categorical encoding\n",
        "cat_features = ['gender','ever_married','work_type','Residence_type', 'smoking_status']\n",
        "le = LabelEncoder()\n",
        "for i in cat_features:\n",
        "  df_X[i] = le.fit_transform(df_X[i])\n",
        "\n",
        "X = df_X.astype(float).values\n",
        "y = df_y.astype(float).values\n",
        "X_train, X_test, y_train, y_test = train_test_split(X, y, test_size=0.3, random_state=42)\n",
        "\n",
        "# Construct some pipelines\n",
        "pipe_dt = make_pipeline(StandardScaler(), DecisionTreeClassifier(random_state=42, max_depth=15, criterion='gini'))\n",
        "pipe_knn = make_pipeline(StandardScaler(), KNeighborsClassifier())\n",
        "pipe_lr = make_pipeline(StandardScaler(), LogisticRegression(random_state=42))\n",
        "pipe_rf = make_pipeline(StandardScaler(), RandomForestClassifier(random_state=42))\n",
        "pipe_svc = make_pipeline(StandardScaler(), SVC(random_state=42))\n",
        "pipe_bag = make_pipeline(StandardScaler(), BaggingClassifier(random_state=42))\n",
        "\n",
        "pipes = [pipe_dt, pipe_knn, pipe_lr, pipe_rf, pipe_svc, pipe_bag]\n",
        "names_pipes = ['DT','KNN','LR','RF','SVM','Bagging']\n",
        "\n",
        "for i in range(len(pipes)):\n",
        "  print(names_pipes[i])\n",
        "  pipes[i].fit(X_train, y_train)\n",
        "  y_pred = pipes[i].predict(X_test)\n",
        "  print('Accuracy : ',accuracy_score(y_test, y_pred))    \n",
        "  print('Precision : ',precision_score(y_test, y_pred, average='macro'))  \n",
        "  print('Recall/ sensitivity : ',recall_score(y_test, y_pred, average='macro')) \n",
        "  print('--------')\n",
        "  print('')\n",
        "\n"
      ],
      "execution_count": 70,
      "outputs": [
        {
          "output_type": "stream",
          "text": [
            "DT\n",
            "Accuracy :  0.9021526418786693\n",
            "Precision :  0.5781655237965917\n",
            "Recall/ sensitivity :  0.5895841762893336\n",
            "--------\n",
            "\n",
            "KNN\n",
            "Accuracy :  0.9406392694063926\n",
            "Precision :  0.5962230215827338\n",
            "Recall/ sensitivity :  0.504579196364655\n",
            "--------\n",
            "\n",
            "LR\n",
            "Accuracy :  0.9419439008480104\n",
            "Precision :  0.4709719504240052\n",
            "Recall/ sensitivity :  0.5\n",
            "--------\n",
            "\n",
            "RF\n",
            "Accuracy :  0.9406392694063926\n",
            "Precision :  0.47093403004572176\n",
            "Recall/ sensitivity :  0.49930747922437674\n",
            "--------\n",
            "\n",
            "SVM\n",
            "Accuracy :  0.9419439008480104\n",
            "Precision :  0.4709719504240052\n",
            "Recall/ sensitivity :  0.5\n",
            "--------\n",
            "\n",
            "Bagging\n",
            "Accuracy :  0.9334637964774951\n",
            "Precision :  0.5301295980133478\n",
            "Recall/ sensitivity :  0.5060420492390053\n",
            "--------\n",
            "\n"
          ],
          "name": "stdout"
        }
      ]
    },
    {
      "cell_type": "markdown",
      "metadata": {
        "id": "CK9N_v2EbvXi"
      },
      "source": [
        "# Confusion matrix"
      ]
    },
    {
      "cell_type": "code",
      "metadata": {
        "colab": {
          "base_uri": "https://localhost:8080/"
        },
        "id": "Te48-IRRb1BP",
        "outputId": "409853b9-50fb-44e3-be5b-a2cbca7e4eb0"
      },
      "source": [
        "y_true = [0,0,0,0,0,1,1,1,1,1]\n",
        "y_pred = [0,0,0,0,0,1,1,1,1,1]\n",
        "\n",
        "y_test = y_true\n",
        "print('Accuracy : ',accuracy_score(y_test, y_pred))    \n",
        "print('Precision : ',precision_score(y_test, y_pred, average='macro'))  \n",
        "print('Recall/ sensitivity : ',recall_score(y_test, y_pred, average='macro')) \n",
        "\n",
        "sens, spec, sup = sensitivity_specificity_support(y_test,y_pred, average='macro')\n",
        "print('Specificity : ',spec)\n",
        "print('Confusion matrix :')\n",
        "print(confusion_matrix(y_test, y_pred))\n"
      ],
      "execution_count": 71,
      "outputs": [
        {
          "output_type": "stream",
          "text": [
            "Accuracy :  1.0\n",
            "Precision :  1.0\n",
            "Recall/ sensitivity :  1.0\n",
            "Specificity :  1.0\n",
            "Confusion matrix :\n",
            "[[5 0]\n",
            " [0 5]]\n"
          ],
          "name": "stdout"
        }
      ]
    },
    {
      "cell_type": "code",
      "metadata": {
        "colab": {
          "base_uri": "https://localhost:8080/"
        },
        "id": "zvJu7fcPdSYa",
        "outputId": "1021748d-acaa-43dd-d83a-d49a96410a77"
      },
      "source": [
        "y_true = [0,0,0,0,0,1,1,1,1,1]\n",
        "y_pred = [1,1,0,0,0,0,1,1,1,1]\n",
        "\n",
        "y_test = y_true\n",
        "print('Accuracy : ',accuracy_score(y_test, y_pred))    \n",
        "print('Precision : ',precision_score(y_test, y_pred, average='macro'))  \n",
        "print('Recall/ sensitivity : ',recall_score(y_test, y_pred, average='macro')) \n",
        "\n",
        "sens, spec, sup = sensitivity_specificity_support(y_test,y_pred, average='macro')\n",
        "print('Specificity : ',spec)\n",
        "print('Confusion matrix :')\n",
        "print(confusion_matrix(y_test, y_pred))"
      ],
      "execution_count": 72,
      "outputs": [
        {
          "output_type": "stream",
          "text": [
            "Accuracy :  0.7\n",
            "Precision :  0.7083333333333333\n",
            "Recall/ sensitivity :  0.7\n",
            "Specificity :  0.7\n",
            "Confusion matrix :\n",
            "[[3 2]\n",
            " [1 4]]\n"
          ],
          "name": "stdout"
        }
      ]
    }
  ]
}